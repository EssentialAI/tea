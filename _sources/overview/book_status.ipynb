{
 "cells": [
  {
   "cell_type": "markdown",
   "id": "b8db1b4b",
   "metadata": {},
   "source": [
    "# Book Status\n",
    "\n",
    "✔️ Get Live coding to work<br>\n",
    "✔️ Get Binder to work<br>\n",
    "⌛  `Doing` Mathematical Background chapter<br>\n",
    "⌛  `Doing` Modify Probability review into chapter<br>\n",
    "🛑 `To-Do` Complete Probability review<br>\n",
    "🛑 `To-Do` Inline tabs for different programming languages (Python, R)<br>\n",
    "🛑 `To-Do` Decide Sphinx theme<br>\n",
    "🛑 `To-Do` Decide Structure of the book<br>\n",
    "🛑 `To-Do` Complete Multi-Arm bandit chapter<br>"
   ]
  }
 ],
 "metadata": {
  "kernelspec": {
   "display_name": "Python 3 (ipykernel)",
   "language": "python",
   "name": "python3"
  },
  "language_info": {
   "codemirror_mode": {
    "name": "ipython",
    "version": 3
   },
   "file_extension": ".py",
   "mimetype": "text/x-python",
   "name": "python",
   "nbconvert_exporter": "python",
   "pygments_lexer": "ipython3",
   "version": "3.9.7"
  }
 },
 "nbformat": 4,
 "nbformat_minor": 5
}
