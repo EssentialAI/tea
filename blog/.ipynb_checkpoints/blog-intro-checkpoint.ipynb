{
 "cells": [
  {
   "cell_type": "markdown",
   "id": "5e24d6c7",
   "metadata": {},
   "source": [
    "# The Essential AI blog"
   ]
  },
  {
   "cell_type": "code",
   "execution_count": 2,
   "id": "395d5f49",
   "metadata": {},
   "outputs": [],
   "source": [
    "# Intro to blog"
   ]
  }
 ],
 "metadata": {
  "kernelspec": {
   "display_name": "Python 3 (ipykernel)",
   "language": "python",
   "name": "python3"
  },
  "language_info": {
   "codemirror_mode": {
    "name": "ipython",
    "version": 3
   },
   "file_extension": ".py",
   "mimetype": "text/x-python",
   "name": "python",
   "nbconvert_exporter": "python",
   "pygments_lexer": "ipython3",
   "version": "3.9.7"
  }
 },
 "nbformat": 4,
 "nbformat_minor": 5
}
