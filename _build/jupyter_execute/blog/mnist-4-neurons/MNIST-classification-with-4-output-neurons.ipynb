{
 "cells": [
  {
   "cell_type": "markdown",
   "id": "eb22484f",
   "metadata": {},
   "source": [
    "### Can 4 output neurons classify 10 classes in MNIST?"
   ]
  },
  {
   "cell_type": "code",
   "execution_count": 2,
   "id": "33be48bc",
   "metadata": {},
   "outputs": [
    {
     "name": "stdout",
     "output_type": "stream",
     "text": [
      "Test\n"
     ]
    }
   ],
   "source": [
    "import pandas as pd\n",
    "print(\"Test\")"
   ]
  }
 ],
 "metadata": {
  "kernelspec": {
   "display_name": "Python 3 (ipykernel)",
   "language": "python",
   "name": "python3"
  },
  "language_info": {
   "codemirror_mode": {
    "name": "ipython",
    "version": 3
   },
   "file_extension": ".py",
   "mimetype": "text/x-python",
   "name": "python",
   "nbconvert_exporter": "python",
   "pygments_lexer": "ipython3",
   "version": "3.9.7"
  }
 },
 "nbformat": 4,
 "nbformat_minor": 5
}