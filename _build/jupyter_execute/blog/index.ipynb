{
 "cells": [
  {
   "cell_type": "markdown",
   "id": "5e24d6c7",
   "metadata": {},
   "source": [
    "# The Essential AI blog"
   ]
  },
  {
   "cell_type": "markdown",
   "id": "94eca5ff",
   "metadata": {},
   "source": [
    "The Essential AI was initially started as a blog. This section is a series of seemingly disconnected articles aimed at providing a mathematical intuition behind several Machine Learning models.\n",
    "<hr>\n",
    "<p style=\"margin-bottom:0px;\">Mar 18, 2022</p>\n",
    "\n",
    "## [Can 4 output neurons classify 10 classes?](../mnist-4-neurons/index.ipynb)\n",
    "\n",
    "The answer is Yes! Wait a minute! Shouldn't there be as many output neurons as the number of classes for an image classification model? Actually No! We shall dive deep into this topic using mathematical reasoning. This article is a solution to an exercise in the \"Neural networks and Deep Learning\" book by Micheal Nielsen."
   ]
  }
 ],
 "metadata": {
  "kernelspec": {
   "display_name": "Python 3 (ipykernel)",
   "language": "python",
   "name": "python3"
  },
  "language_info": {
   "codemirror_mode": {
    "name": "ipython",
    "version": 3
   },
   "file_extension": ".py",
   "mimetype": "text/x-python",
   "name": "python",
   "nbconvert_exporter": "python",
   "pygments_lexer": "ipython3",
   "version": "3.9.7"
  }
 },
 "nbformat": 4,
 "nbformat_minor": 5
}