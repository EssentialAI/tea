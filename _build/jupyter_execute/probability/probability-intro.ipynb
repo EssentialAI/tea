{
 "cells": [
  {
   "cell_type": "markdown",
   "id": "66243c05",
   "metadata": {},
   "source": [
    "# [3.0] Probability Review"
   ]
  },
  {
   "cell_type": "markdown",
   "id": "6e085039",
   "metadata": {},
   "source": [
    "<span class = 'high'>Introduction to Probability</span>\n",
    "\n",
    "The language of this course is going to be probability. Everything we discuss in this course will be based on undergraduate level probability. Probability is the study of uncertainty. The mathematical theory of probability is very sophisticated, and delves into a branch of analysis known as measure theory. In these notes, we provide a basic treatment of probability that does not address these finer details."
   ]
  }
 ],
 "metadata": {
  "kernelspec": {
   "display_name": "Python 3 (ipykernel)",
   "language": "python",
   "name": "python3"
  },
  "language_info": {
   "codemirror_mode": {
    "name": "ipython",
    "version": 3
   },
   "file_extension": ".py",
   "mimetype": "text/x-python",
   "name": "python",
   "nbconvert_exporter": "python",
   "pygments_lexer": "ipython3",
   "version": "3.9.7"
  }
 },
 "nbformat": 4,
 "nbformat_minor": 5
}