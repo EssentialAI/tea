{
 "cells": [
  {
   "cell_type": "markdown",
   "id": "58fafb70",
   "metadata": {},
   "source": [
    "# [2.1] Infinite Series"
   ]
  },
  {
   "cell_type": "markdown",
   "id": "ef9c9555",
   "metadata": {},
   "source": [
    "*Gentle Introduction to Probability*\n",
    "\n",
    "Imagine that you have a <span class = 'high'>fair coin</span>. If you get a tail, you flip the coin again. You do this repeatedly until you finally get a head. <span class = 'high'>What is the probability that you need to flip the coin three times to get one head?</span>\n",
    "\n",
    "This is a warm-up exercise. Since the coin is fair, the probability of obtaining a head is $\\frac{1}{2}$. The probability of getting a tail followed by a head is $\\frac{1}{2} \\times \\frac{1}{2} = \\frac{1}{4}$. If you follow this logic, you can write down the probabilities for all other cases. The below figures shows these probabilities for better understanding.\n",
    "\n",
    "![test](../images/coins.png)"
   ]
  },
  {
   "cell_type": "markdown",
   "id": "888cf836",
   "metadata": {},
   "source": [
    "We can also summarize these probabilities using <span class = 'high'>Histogram</span> as shown below. We see that the sequence above can be infinitely long."
   ]
  },
  {
   "cell_type": "code",
   "execution_count": 6,
   "id": "2286595e",
   "metadata": {
    "tags": [
     "hide-input"
    ]
   },
   "outputs": [
    {
     "data": {
      "image/png": "[encoded data removed]",
      "text/plain": [
       "<Figure size 432x288 with 1 Axes>"
      ]
     },
     "metadata": {
      "needs_background": "light"
     },
     "output_type": "display_data"
    }
   ],
   "source": [
    "import numpy as np\n",
    "import matplotlib.pyplot as plt\n",
    "p = 1/2\n",
    "n = np.arange(0,10)\n",
    "X = np.power(p,n)\n",
    "plt.bar(n,X)\n",
    "plt.xlabel(\"Number of coin flips\")\n",
    "plt.ylabel(\"Probability of head on last flip\")\n",
    "plt.show()"
   ]
  },
  {
   "cell_type": "markdown",
   "id": "25792a76",
   "metadata": {},
   "source": [
    "Another question that can be asked based on the above experiment is, <span class = 'high'>On average, if you want to be $90\\%$ sure that you will get a head, what is the minimum number of attempts you need to try?</span>\n",
    "\n",
    "This problem can be answered by analyzing the sequence of probabilities. If we make two attempts, then the probability of getting a head is the sum of the probabilities for one attempt and that of two attempts:\n",
    "\n",
    "$$\n",
    "\\begin{align}\n",
    "\\mathbb{P}[\\text{success after 1 attempt}] &= \\frac{1}{2} = 0.5 \\\\\n",
    "\\mathbb{P}[\\text{success after 2 attempts}] &= \\frac{1}{2} + \\frac{1}{4}= 0.75 \\\\\n",
    "\\mathbb{P}[\\text{success after 3 attempts}] &= \\frac{1}{2} + \\frac{1}{4} + \\frac{1}{8} = 0.875 \\\\\n",
    "\\mathbb{P}[\\text{success after 4 attempts}] &= \\frac{1}{2} + \\frac{1}{4} + \\frac{1}{8} + \\frac{1}{16}= 0.9375\n",
    "\\end{align}\n",
    "$$\n",
    "\n",
    "This means if we try for 4 attempts we will have $93.75 \\%$ probability to obtain a head.\n",
    "\n",
    "This section is a gentle introduction to calculation of probability without formulae. Probability will be reviewed in detail in the next chapter."
   ]
  },
  {
   "cell_type": "markdown",
   "id": "e67ead14",
   "metadata": {},
   "source": [
    "#### [2.1.1] Geometric Series\n",
    "\n",
    "A geometric series is the sum of a finite or an infinite sequence of numbers with a constant ratio between successive terms. As we have seen in the previous example, a geometric series appears naturally in the context of discrete events. In <span class = 'high'>chapter</span>, we will use geometric series when calculating <span class = 'high'>expectation</span> and <span class = 'high'>moments</span> of a random variable.\n",
    "\n",
    "```{admonition} Geometric Series\n",
    ":class: note\n",
    "<span class = 'high'>Finite Geometric Sequence</span> of power $n \\enspace \\rightarrow \\enspace \\{1,r,r^2,...,r^n\\}$\n",
    "\n",
    "<span class = 'high'>Infinite Geometric Sequence</span> of numbers $\\enspace \\rightarrow \\enspace \\{1,r,r^2,...\\}$\n",
    "```\n",
    "\n",
    "```{admonition} Sum of geometric series\n",
    ":class: note\n",
    "Sum of a finite geometric series of power $n$ is:\n",
    "\n",
    "\n",
    "$$\\sum_{k=0}^n r^k = 1+r+r^2+...+r^n = \\frac{1-r^{n+1}}{1-r} \\label{naresh}$$\n",
    "\n",
    "Sum of an infinite geometric series is (if $0 < r < 1$):\n",
    "\n",
    "\n",
    "```{math}\n",
    "    \\sum_{k=0}^\\infty r^k = 1+r+r^2+... = \\frac{1}{1-r}\n",
    "```\n",
    "\n",
    "$$\\sum_{k=1}^{\\infty}k r^{k-1} = 1+2r+3r^2+... = \\frac{1}{(1-r)^2}$$\n",
    ":::{seealso}\n",
    "$$\n",
    "\\sum_{n=1}^\\infty \\frac{1}{2^k} = \\frac{1}{4}(1+\\frac{1}{2}+\\frac{1}{4}...) = \\frac{1}{4}\\cdot \\frac{1}{1-\\frac{1}{2}} = \\frac{1}{2}$$\n",
    "\n",
    "$$\\sum_{n=1}^\\infty \\frac{1}{n^2} = 1+\\frac{1}{2^2}+\\frac{1}{3^2}+.. = \\frac{\\pi^2}{6}\n",
    "$$\n",
    ":::\n",
    "```\n",
    "Proofs for above equations to be added later."
   ]
  },
  {
   "cell_type": "markdown",
   "id": "bda7ce5f",
   "metadata": {},
   "source": [
    "Trying to refer {eq}`(2.1.1)`"
   ]
  }
 ],
 "metadata": {
  "celltoolbar": "Edit Metadata",
  "kernelspec": {
   "display_name": "Python 3 (ipykernel)",
   "language": "python",
   "name": "python3"
  },
  "language_info": {
   "codemirror_mode": {
    "name": "ipython",
    "version": 3
   },
   "file_extension": ".py",
   "mimetype": "text/x-python",
   "name": "python",
   "nbconvert_exporter": "python",
   "pygments_lexer": "ipython3",
   "version": "3.9.7"
  }
 },
 "nbformat": 4,
 "nbformat_minor": 5
}
