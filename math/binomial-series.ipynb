{
 "cells": [
  {
   "cell_type": "markdown",
   "id": "58fafb70",
   "metadata": {},
   "source": [
    "# [2.2] Binomial Series"
   ]
  },
  {
   "cell_type": "markdown",
   "id": "84dbfb5a",
   "metadata": {},
   "source": [
    "A [geometric series](math_back1.md) is useful when handling situations such as $N-1$ failures followed by a success. However, we can easily twist the problem by asking: <span class = 'high'>What is the probability of getting one head out of $3$ independent coin tosses?</span> In this case, the probability can be determined by enumerating all possible cases:\n",
    "\n",
    "$$\n",
    "\\begin{align}\n",
    "\\mathbb{P}[\\text{1 head in 3 coins}] &= \\mathbb{P}[H,T,T]+\\mathbb{P}[T,H,T]+\\mathbb{P}[T,T,H] \\\\\n",
    "&= \\small{\\left(\\frac{1}{2}\\times \\frac{1}{2} \\times \\frac{1}{2}\\right)+\\left(\\frac{1}{2}\\times \\frac{1}{2} \\times \\frac{1}{2}\\right)+\\left(\\frac{1}{2}\\times \\frac{1}{2} \\times \\frac{1}{2}\\right)} \\\\\n",
    "&= \\small{\\frac{3}{8}}\n",
    "\\end{align}\n",
    "$$\n",
    "\n",
    "![test](../images/coins1.png)"
   ]
  },
  {
   "cell_type": "markdown",
   "id": "4961211c",
   "metadata": {},
   "source": [
    "In general, the number of combinations can be systematically studied using <span class = 'high'>Combinatorics</span>, which we will discuss later in the chapter. However, the number of combinations motivates us to discuss another background technique known as the <span class = 'high'>Binomial Series</span>. The binomial series is instrumental in algebra when handling polynomials such as $(a+b)^2$ or $(1+x)^3$. It provides valuable formula when computing these powers.\n",
    "\n",
    "```{admonition} Binomial Theorem\n",
    ":class: note\n",
    "For any real numbers $a$ and $b$, the binomial series of power $n$ is:\n",
    "\n",
    "\n",
    "$$\\definecolor{orange}{RGB}{232, 62, 140}\n",
    "\\color{orange}{(a+b)^n = \\sum_{k=0}^{n}\\binom{n}{k}a^{n-k}b^k}$$\n",
    "\n",
    "$$\n",
    "\\small{\\text{where} \\binom{n}{k} = \\frac{n!}{k!(n-k)!}}$$\n",
    "```"
   ]
  },
  {
   "cell_type": "code",
   "execution_count": 49,
   "id": "89958065",
   "metadata": {},
   "outputs": [
    {
     "name": "stdout",
     "output_type": "stream",
     "text": [
      "45.0\n",
      "2.0\n"
     ]
    }
   ],
   "source": [
    "from scipy.special import comb, factorial\n",
    "n=10\n",
    "k=2\n",
    "print(comb(n,k))\n",
    "print(factorial(k))"
   ]
  },
  {
   "cell_type": "markdown",
   "id": "aff3b158",
   "metadata": {},
   "source": [
    "```{admonition} Pascal's Identity\n",
    "Let $n$ and $k$ be positive integers such that $K \\leq n$, then,\n",
    "\n",
    "$$\\binom{n}{k}+\\binom{n}{k-1}=\\binom{n+1}{k}$$\n",
    "```"
   ]
  },
  {
   "cell_type": "markdown",
   "id": "c43f7a7b",
   "metadata": {},
   "source": [
    "```{dropdown} Exercise 1: Using Binomial theorem find $(1+x)^3$\n",
    "\n",
    "$$\\begin{align}\n",
    "(1+x)^3 &= \\sum_{k=0}^{n}\\binom{3}{k}1^{3-k}x^k \\\\\n",
    "&= 1+3x+3x^2+x^3\n",
    "\\end{align}$$\n",
    "```"
   ]
  }
 ],
 "metadata": {
  "celltoolbar": "Edit Metadata",
  "kernelspec": {
   "display_name": "Python 3 (ipykernel)",
   "language": "python",
   "name": "python3"
  },
  "language_info": {
   "codemirror_mode": {
    "name": "ipython",
    "version": 3
   },
   "file_extension": ".py",
   "mimetype": "text/x-python",
   "name": "python",
   "nbconvert_exporter": "python",
   "pygments_lexer": "ipython3",
   "version": "3.9.7"
  }
 },
 "nbformat": 4,
 "nbformat_minor": 5
}
