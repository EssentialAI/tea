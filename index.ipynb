{
 "cells": [
  {
   "cell_type": "markdown",
   "id": "2cd0b7d0",
   "metadata": {},
   "source": [
    "# The Essential AI\n",
    "\n",
    "**The Essential AI** is an initiative by an engineering graduate from a non-CS background currently pursuing research in Artificial Intelligence (AI), specifically, Vision-Language multimodal AI models. **The Essential AI** aims to enable students from any educational background to pursue a career in AI. We believe there is a disconnect between learning and understanding AI, and that math is the only way to bridge this gap. And this we try to achieve by instilling a sense of mathematical intuition that is necessary to understand AI.\n",
    "\n",
    "## Why Math is important for Machine Learning (and AI in general)?\n",
    "\n",
    "There are a plethora of online courses on Machine Learning and AI, yet, truly comprehending the traits of AI has been a very difficult task. This is because several online courses teach Machine Learning as if it's just a plug-and-play game. One cannot thrive in the field of Machine Learning without appreciating the Math involved. It is widely believed that mathematical intuition is essential for comprehending the current State of The Art (SoTA) models. \n",
    "\n",
    "Read these articles on the importance of mathematics for Machine Learning. <a target = \"_blank\" href = \"https://qr.ae/pGLiWZ\" class = 'nlinks'>[1]</a>,<a target = \"_blank\" href = \"https://www.kdnuggets.com/2020/04/mathematics-machine-learning-book.html\" class = 'nlinks'>[2]</a>,<a target = \"_blank\" href = \"https://www.knowledgehut.com/blog/data-science/importance-of-maths-in-machine-learning\" class = 'nlinks'>[3]</a>.\n",
    "\n",
    "## How to use this online book?\n",
    "\n",
    "Jupyter notebooks allow users to present their work both as a *markdown* and in the form of an *executable code*. Jupyter-book combines both these features in the form of an online book that contains both static text and executable code that you can interact with. All of the content in this online book is written in Markdown and presented in the form of Jupyter Notebook “chapters”.\n",
    "\n",
    "```{note}\n",
    "You can run, and even modify, the example code in real time to get full benefits of Jupyter Notebooks!! This interaction allows you to experiment with different parameters and observe instantly how results change.\n",
    "```\n",
    "\n",
    "### Interacting with Jupyter Notebooks in the cloud\n",
    "\n",
    "### Binder\n",
    "\n",
    "An easy way to interact with a Jupyter Notebook is through\n",
    "<a target=\"_blank\" href = \"https://mybinder.org/\">Binder</a>, which enables the execution of a\n",
    "jupyter notebook in the cloud. To execute these notebooks simply navigate your mouse to\n",
    "the top right corner of the book chapter you are viewing and click\n",
    "on the rocket ship icon <i class=\"fa fa-rocket\" aria-hidden=\"true\"></i>, and be sure to select\n",
    "\"Launch Binder\". After a moment you should be presented with a\n",
    "notebook that you can interact with, i.e. you will be able to execute\n",
    "and even change the example programs. You will see that the code cells\n",
    "have no output at first, until you execute them by pressing\n",
    "{kbd}`Shift`\\+{kbd}`Enter`.\n",
    "\n",
    "### Colab\n",
    "\n",
    "The easiest way to navigate through these jupyter notebook is through Google Colab notebooks. Just click the rocket ship icon <i class=\"fa fa-rocket\" aria-hidden=\"true\"></i> and select \"Colab\" to open the notebook is colab. Connect to the instance and that's it! You have access to all the pre-installed libraries in google colab."
   ]
  }
 ],
 "metadata": {
  "kernelspec": {
   "display_name": "Python 3 (ipykernel)",
   "language": "python",
   "name": "python3"
  },
  "language_info": {
   "codemirror_mode": {
    "name": "ipython",
    "version": 3
   },
   "file_extension": ".py",
   "mimetype": "text/x-python",
   "name": "python",
   "nbconvert_exporter": "python",
   "pygments_lexer": "ipython3",
   "version": "3.9.7"
  }
 },
 "nbformat": 4,
 "nbformat_minor": 5
}
